{
 "cells": [
  {
   "cell_type": "code",
   "execution_count": 1,
   "id": "d39f13b5",
   "metadata": {},
   "outputs": [],
   "source": [
    "import matplotlib.pyplot as plt\n",
    "plt.rc('font', family='AppleGothic')\n",
    "plt.rc('axes', unicode_minus=False)\n",
    "\n",
    "from matplotlib_inline.backend_inline import set_matplotlib_formats\n",
    "set_matplotlib_formats('retina')\n",
    "# 레티나 디스플레이 설정"
   ]
  },
  {
   "cell_type": "code",
   "execution_count": 2,
   "id": "37ad4ff6",
   "metadata": {},
   "outputs": [
    {
     "name": "stdout",
     "output_type": "stream",
     "text": [
      "0.5053326657968588\n"
     ]
    }
   ],
   "source": [
    "from sklearn.datasets import fetch_california_housing\n",
    "from sklearn.metrics import mean_squared_error\n",
    "from sklearn.model_selection import train_test_split\n",
    "from sklearn.neural_network import MLPRegressor\n",
    "from sklearn.pipeline import make_pipeline\n",
    "from sklearn.preprocessing import StandardScaler\n",
    "\n",
    "housing = fetch_california_housing()\n",
    "X_train_full, X_test, y_train_full, y_test = train_test_split(housing.data, housing.target, random_state=42)\n",
    "X_train, X_valid, y_train, y_valid = train_test_split(X_train_full, y_train_full, random_state=42)\n",
    "\n",
    "mlp_reg = MLPRegressor(hidden_layer_sizes=[50, 50, 50], random_state=42)\n",
    "pipeline = make_pipeline(StandardScaler(), mlp_reg)\n",
    "pipeline.fit(X_train, y_train)\n",
    "y_pred = pipeline.predict(X_valid)\n",
    "rmse = mean_squared_error(y_valid, y_pred, squared=False)\n",
    "\n",
    "print(rmse)"
   ]
  },
  {
   "cell_type": "code",
   "execution_count": 3,
   "id": "65d8e4cf",
   "metadata": {},
   "outputs": [
    {
     "name": "stderr",
     "output_type": "stream",
     "text": [
      "2023-11-02 21:13:29.710378: I metal_plugin/src/device/metal_device.cc:1154] Metal device set to: Apple M1\n",
      "2023-11-02 21:13:29.710402: I metal_plugin/src/device/metal_device.cc:296] systemMemory: 8.00 GB\n",
      "2023-11-02 21:13:29.710409: I metal_plugin/src/device/metal_device.cc:313] maxCacheSize: 2.67 GB\n",
      "2023-11-02 21:13:29.710585: I tensorflow/core/common_runtime/pluggable_device/pluggable_device_factory.cc:306] Could not identify NUMA node of platform GPU ID 0, defaulting to 0. Your kernel may not have been built with NUMA support.\n",
      "2023-11-02 21:13:29.710869: I tensorflow/core/common_runtime/pluggable_device/pluggable_device_factory.cc:272] Created TensorFlow device (/job:localhost/replica:0/task:0/device:GPU:0 with 0 MB memory) -> physical PluggableDevice (device: 0, name: METAL, pci bus id: <undefined>)\n",
      "WARNING:absl:At this time, the v2.11+ optimizer `tf.keras.optimizers.Adam` runs slowly on M1/M2 Macs, please use the legacy Keras optimizer instead, located at `tf.keras.optimizers.legacy.Adam`.\n",
      "2023-11-02 21:13:30.628822: I tensorflow/core/grappler/optimizers/custom_graph_optimizer_registry.cc:117] Plugin optimizer for device_type GPU is enabled.\n"
     ]
    },
    {
     "name": "stdout",
     "output_type": "stream",
     "text": [
      "Epoch 1/20\n"
     ]
    },
    {
     "name": "stderr",
     "output_type": "stream",
     "text": [
      "2023-11-02 21:13:32.495308: E tensorflow/core/grappler/optimizers/meta_optimizer.cc:961] model_pruner failed: INVALID_ARGUMENT: Graph does not contain terminal node Adam/AssignAddVariableOp.\n"
     ]
    },
    {
     "name": "stdout",
     "output_type": "stream",
     "text": [
      "363/363 [==============================] - 7s 12ms/step - loss: 1.4373 - root_mean_squared_error: 1.1989 - val_loss: 7.6380 - val_root_mean_squared_error: 2.7637\n",
      "Epoch 2/20\n",
      "363/363 [==============================] - 2s 7ms/step - loss: 0.6461 - root_mean_squared_error: 0.8038 - val_loss: 14.7811 - val_root_mean_squared_error: 3.8446\n",
      "Epoch 3/20\n",
      "363/363 [==============================] - 2s 7ms/step - loss: 1.0944 - root_mean_squared_error: 1.0461 - val_loss: 10.4427 - val_root_mean_squared_error: 3.2315\n",
      "Epoch 4/20\n",
      "363/363 [==============================] - 2s 7ms/step - loss: 0.9669 - root_mean_squared_error: 0.9833 - val_loss: 32.2248 - val_root_mean_squared_error: 5.6767\n",
      "Epoch 5/20\n",
      "363/363 [==============================] - 2s 7ms/step - loss: 1.8460 - root_mean_squared_error: 1.3587 - val_loss: 47.6252 - val_root_mean_squared_error: 6.9011\n",
      "Epoch 6/20\n",
      "363/363 [==============================] - 2s 7ms/step - loss: 3.0863 - root_mean_squared_error: 1.7568 - val_loss: 22.9640 - val_root_mean_squared_error: 4.7921\n",
      "Epoch 7/20\n",
      "363/363 [==============================] - 3s 8ms/step - loss: 1.8393 - root_mean_squared_error: 1.3562 - val_loss: 7.2086 - val_root_mean_squared_error: 2.6849\n",
      "Epoch 8/20\n",
      "363/363 [==============================] - 3s 8ms/step - loss: 8.5676 - root_mean_squared_error: 2.9271 - val_loss: 368.8801 - val_root_mean_squared_error: 19.2063\n",
      "Epoch 9/20\n",
      "363/363 [==============================] - 3s 7ms/step - loss: 137.1286 - root_mean_squared_error: 11.7102 - val_loss: 38.9685 - val_root_mean_squared_error: 6.2425\n",
      "Epoch 10/20\n",
      "363/363 [==============================] - 3s 7ms/step - loss: 3.1745 - root_mean_squared_error: 1.7817 - val_loss: 0.6307 - val_root_mean_squared_error: 0.7942\n",
      "Epoch 11/20\n",
      "363/363 [==============================] - 3s 7ms/step - loss: 4.5512 - root_mean_squared_error: 2.1334 - val_loss: 101193.6328 - val_root_mean_squared_error: 318.1095\n",
      "Epoch 12/20\n",
      "363/363 [==============================] - 2s 7ms/step - loss: 48.5274 - root_mean_squared_error: 6.9662 - val_loss: 11.8829 - val_root_mean_squared_error: 3.4472\n",
      "Epoch 13/20\n",
      "363/363 [==============================] - 3s 7ms/step - loss: 15.7975 - root_mean_squared_error: 3.9746 - val_loss: 17.1591 - val_root_mean_squared_error: 4.1424\n",
      "Epoch 14/20\n",
      "363/363 [==============================] - 3s 7ms/step - loss: 35.1692 - root_mean_squared_error: 5.9304 - val_loss: 60.3524 - val_root_mean_squared_error: 7.7687\n",
      "Epoch 15/20\n",
      "363/363 [==============================] - 3s 7ms/step - loss: 22.2814 - root_mean_squared_error: 4.7203 - val_loss: 53.5841 - val_root_mean_squared_error: 7.3201\n",
      "Epoch 16/20\n",
      "363/363 [==============================] - 2s 6ms/step - loss: 0.5837 - root_mean_squared_error: 0.7640 - val_loss: 18.4453 - val_root_mean_squared_error: 4.2948\n",
      "Epoch 17/20\n",
      "363/363 [==============================] - 2s 6ms/step - loss: 88.6165 - root_mean_squared_error: 9.4136 - val_loss: 32.3895 - val_root_mean_squared_error: 5.6912\n",
      "Epoch 18/20\n",
      "363/363 [==============================] - 2s 6ms/step - loss: 20.9446 - root_mean_squared_error: 4.5765 - val_loss: 10.1959 - val_root_mean_squared_error: 3.1931\n",
      "Epoch 19/20\n",
      "363/363 [==============================] - 2s 6ms/step - loss: 15.5943 - root_mean_squared_error: 3.9490 - val_loss: 19.6573 - val_root_mean_squared_error: 4.4337\n",
      "Epoch 20/20\n",
      "363/363 [==============================] - 2s 7ms/step - loss: 20.3207 - root_mean_squared_error: 4.5078 - val_loss: 203.6288 - val_root_mean_squared_error: 14.2699\n",
      "162/162 [==============================] - 1s 7ms/step - loss: 2.3831 - root_mean_squared_error: 1.5437\n",
      "1/1 [==============================] - 1s 536ms/step\n"
     ]
    }
   ],
   "source": [
    "import tensorflow as tf\n",
    "import numpy as np\n",
    "import pandas as pd\n",
    "\n",
    "tf.random.set_seed(42)\n",
    "norm_layer = tf.keras.layers.Normalization(input_shape=X_train.shape[1:])\n",
    "model = tf.keras.Sequential([\n",
    "    norm_layer,\n",
    "    tf.keras.layers.Dense(50, activation='relu'),\n",
    "    tf.keras.layers.Dense(50, activation='relu'),\n",
    "    tf.keras.layers.Dense(50, activation='relu'),\n",
    "    tf.keras.layers.Dense(1)\n",
    "])\n",
    "\n",
    "optimizer = tf.keras.optimizers.Adam(learning_rate=1e-3)\n",
    "model.compile(loss='mse', optimizer=optimizer, metrics=[\"RootMeanSquaredError\"])\n",
    "norm_layer.adapt(X_train)\n",
    "history = model.fit(X_train, y_train, epochs=20, validation_data=(X_valid, y_valid))\n",
    "mse_test, rmse_test = model.evaluate(X_test, y_test)\n",
    "X_new = X_test[:3]\n",
    "y_pred = model.predict(X_new)"
   ]
  },
  {
   "cell_type": "code",
   "execution_count": 4,
   "id": "ccc105fe",
   "metadata": {},
   "outputs": [
    {
     "ename": "NameError",
     "evalue": "name 'normalization' is not defined",
     "output_type": "error",
     "traceback": [
      "\u001b[0;31m---------------------------------------------------------------------------\u001b[0m",
      "\u001b[0;31mNameError\u001b[0m                                 Traceback (most recent call last)",
      "Cell \u001b[0;32mIn[4], line 9\u001b[0m\n\u001b[1;32m      7\u001b[0m input_ \u001b[38;5;241m=\u001b[39m tf\u001b[38;5;241m.\u001b[39mkeras\u001b[38;5;241m.\u001b[39mlayers\u001b[38;5;241m.\u001b[39mInput(shape\u001b[38;5;241m=\u001b[39mX_train\u001b[38;5;241m.\u001b[39mshape[\u001b[38;5;241m1\u001b[39m:])\n\u001b[1;32m      8\u001b[0m normalized \u001b[38;5;241m=\u001b[39m normalization_layer(input_)\n\u001b[0;32m----> 9\u001b[0m hidden1 \u001b[38;5;241m=\u001b[39m hidden_layer1(\u001b[43mnormalization\u001b[49m)\n\u001b[1;32m     10\u001b[0m hidden2 \u001b[38;5;241m=\u001b[39m hidden_layer2(hidden1)\n\u001b[1;32m     11\u001b[0m concat \u001b[38;5;241m=\u001b[39m concat_layer([normalized, hidden2])\n",
      "\u001b[0;31mNameError\u001b[0m: name 'normalization' is not defined"
     ]
    }
   ],
   "source": [
    "normalization_layer = tf.keras.layers.Normalization()\n",
    "hidden_layer1 = tf.keras.layers.Dense(30, activation='relu')\n",
    "hidden_layer1 = tf.keras.layers.Dense(30, activation='relu')\n",
    "concat_layer = tf.keras.layers.Concatenate()\n",
    "output_layer = tf.keras.layers.Dense(1)\n",
    "\n",
    "input_ = tf.keras.layers.Input(shape=X_train.shape[1:])\n",
    "normalized = normalization_layer(input_)\n",
    "hidden1 = hidden_layer1(normalization)\n",
    "hidden2 = hidden_layer2(hidden1)\n",
    "concat = concat_layer([normalized, hidden2])\n",
    "output = output_layer(concat)\n",
    "\n",
    "model = tf.keras.Model(inputs=[input_], outputs=[output])"
   ]
  }
 ],
 "metadata": {
  "kernelspec": {
   "display_name": "Python 3 (ipykernel)",
   "language": "python",
   "name": "python3"
  },
  "language_info": {
   "codemirror_mode": {
    "name": "ipython",
    "version": 3
   },
   "file_extension": ".py",
   "mimetype": "text/x-python",
   "name": "python",
   "nbconvert_exporter": "python",
   "pygments_lexer": "ipython3",
   "version": "3.10.12"
  },
  "toc": {
   "base_numbering": 1,
   "nav_menu": {},
   "number_sections": true,
   "sideBar": true,
   "skip_h1_title": false,
   "title_cell": "Table of Contents",
   "title_sidebar": "Contents",
   "toc_cell": false,
   "toc_position": {},
   "toc_section_display": true,
   "toc_window_display": false
  }
 },
 "nbformat": 4,
 "nbformat_minor": 5
}
